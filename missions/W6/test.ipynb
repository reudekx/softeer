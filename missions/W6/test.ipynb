{
 "cells": [
  {
   "cell_type": "code",
   "execution_count": 66,
   "metadata": {},
   "outputs": [],
   "source": [
    "from pyspark.sql import SparkSession\n",
    "from pyspark.sql import functions as F\n",
    "from pyspark.sql import DataFrame\n",
    "import random"
   ]
  },
  {
   "cell_type": "code",
   "execution_count": 67,
   "metadata": {},
   "outputs": [],
   "source": [
    "# Initialize Spark Session\n",
    "spark: SparkSession.Builder = SparkSession.builder \\\n",
    "    .appName(\"PartitioningExample\") \\\n",
    "    .config(\n",
    "        \"spark.driver.extraJavaOptions\", \"-Djava.security.manager=allow\"\n",
    "    ) \\\n",
    "    .getOrCreate()"
   ]
  },
  {
   "cell_type": "code",
   "execution_count": 68,
   "metadata": {},
   "outputs": [],
   "source": [
    "def create_sample_data(n=1000):\n",
    "    data = []\n",
    "    for i in range(n):\n",
    "        age = random.randint(18, 80)\n",
    "        salary = random.randint(30000, 150000)\n",
    "        department = random.choice(['HR', 'Engineering', 'Sales', 'Marketing'])\n",
    "        data.append((i, age, salary, department))\n",
    "    return data"
   ]
  },
  {
   "cell_type": "code",
   "execution_count": 69,
   "metadata": {},
   "outputs": [],
   "source": [
    "# Create DataFrame\n",
    "data = create_sample_data()\n",
    "df: DataFrame = spark.createDataFrame(data, [\"id\", \"age\", \"salary\", \"department\"])"
   ]
  },
  {
   "cell_type": "code",
   "execution_count": 70,
   "metadata": {},
   "outputs": [
    {
     "name": "stdout",
     "output_type": "stream",
     "text": [
      "Initial Data Sample:\n",
      "+---+---+------+-----------+\n",
      "| id|age|salary| department|\n",
      "+---+---+------+-----------+\n",
      "|  0| 77|101670|  Marketing|\n",
      "|  1| 42| 70607|         HR|\n",
      "|  2| 63| 91851|  Marketing|\n",
      "|  3| 52| 55338|Engineering|\n",
      "|  4| 41| 50951|         HR|\n",
      "+---+---+------+-----------+\n",
      "only showing top 5 rows\n",
      "\n",
      "\n",
      "Initial Partitioning:\n",
      "Number of partitions: 10\n"
     ]
    }
   ],
   "source": [
    "# Show initial data distribution\n",
    "print(\"Initial Data Sample:\")\n",
    "df.show(5)\n",
    "print(\"\\nInitial Partitioning:\")\n",
    "print(f\"Number of partitions: {df.rdd.getNumPartitions()}\")"
   ]
  },
  {
   "cell_type": "code",
   "execution_count": 71,
   "metadata": {},
   "outputs": [
    {
     "name": "stdout",
     "output_type": "stream",
     "text": [
      "\n",
      "Example 1: Basic repartition\n",
      "Number of partitions after repartition: 5\n",
      "\n",
      "Sample after repartition:\n"
     ]
    }
   ],
   "source": [
    "# Example 1: Basic repartition by age\n",
    "print(\"\\nExample 1: Basic repartition\")\n",
    "df_repartitioned = df.repartition(5, \"age\")\n",
    "print(f\"Number of partitions after repartition: {df_repartitioned.rdd.getNumPartitions()}\")\n",
    "print(\"\\nSample after repartition:\")\n",
    "df_repartitioned.show(5)"
   ]
  },
  {
   "cell_type": "code",
   "execution_count": 72,
   "metadata": {},
   "outputs": [
    {
     "name": "stdout",
     "output_type": "stream",
     "text": [
      "\n",
      "Example 2: Range partitioning by salary\n",
      "Number of partitions after range partitioning: 5\n",
      "\n",
      "Sample after range partitioning (ordered by salary):\n",
      "+---+---+------+-----------+\n",
      "| id|age|salary| department|\n",
      "+---+---+------+-----------+\n",
      "|  4| 41| 50951|         HR|\n",
      "|  7| 77| 38537|  Marketing|\n",
      "|  8| 76| 41430|      Sales|\n",
      "| 19| 77| 47865|  Marketing|\n",
      "| 22| 48| 34906|  Marketing|\n",
      "| 23| 71| 43374|      Sales|\n",
      "| 24| 38| 47238|      Sales|\n",
      "| 36| 48| 33289|         HR|\n",
      "| 37| 43| 46285|  Marketing|\n",
      "| 46| 80| 36612|Engineering|\n",
      "| 52| 37| 48157|      Sales|\n",
      "| 53| 61| 49190|      Sales|\n",
      "| 57| 28| 41113|         HR|\n",
      "| 58| 63| 34813|  Marketing|\n",
      "| 60| 71| 55033|      Sales|\n",
      "| 62| 78| 45924|Engineering|\n",
      "| 67| 32| 47229|Engineering|\n",
      "| 80| 24| 44930|      Sales|\n",
      "| 82| 21| 50430|      Sales|\n",
      "| 83| 68| 47027|      Sales|\n",
      "+---+---+------+-----------+\n",
      "only showing top 20 rows\n",
      "\n"
     ]
    }
   ],
   "source": [
    "# Example 2: Range partitioning by salary\n",
    "print(\"\\nExample 2: Range partitioning by salary\")\n",
    "df_range = df.repartitionByRange(5, F.col(\"salary\"))\n",
    "print(f\"Number of partitions after range partitioning: {df_range.rdd.getNumPartitions()}\")\n",
    "print(\"\\nSample after range partitioning (ordered by salary):\")\n",
    "df_range.show(20)"
   ]
  },
  {
   "cell_type": "code",
   "execution_count": 73,
   "metadata": {},
   "outputs": [
    {
     "name": "stdout",
     "output_type": "stream",
     "text": [
      "\n",
      "Example 3: Multiple column partitioning\n",
      "Number of partitions: 5\n",
      "\n",
      "Sample after multiple column partitioning:\n",
      "+---+---+------+----------+\n",
      "| id|age|salary|department|\n",
      "+---+---+------+----------+\n",
      "|  5| 43| 97102|        HR|\n",
      "| 10| 48|121824|        HR|\n",
      "| 15| 39| 62575|     Sales|\n",
      "| 18| 79|146825|        HR|\n",
      "| 23| 71| 43374|     Sales|\n",
      "+---+---+------+----------+\n",
      "only showing top 5 rows\n",
      "\n"
     ]
    }
   ],
   "source": [
    "# Example 3: Multiple column partitioning\n",
    "print(\"\\nExample 3: Multiple column partitioning\")\n",
    "df_multi = df.repartition(5, \"department\", \"age\")\n",
    "print(f\"Number of partitions: {df_multi.rdd.getNumPartitions()}\")\n",
    "print(\"\\nSample after multiple column partitioning:\")\n",
    "df_multi.show(5)"
   ]
  },
  {
   "cell_type": "code",
   "execution_count": 74,
   "metadata": {},
   "outputs": [
    {
     "name": "stdout",
     "output_type": "stream",
     "text": [
      "\n",
      "Analyzing salary distribution in range partitioned data:\n",
      "+------+-----+\n",
      "|salary|count|\n",
      "+------+-----+\n",
      "| 30010|    1|\n",
      "| 30189|    1|\n",
      "| 30407|    1|\n",
      "| 30644|    1|\n",
      "| 30789|    1|\n",
      "| 31237|    1|\n",
      "| 31250|    1|\n",
      "| 31422|    1|\n",
      "| 31658|    1|\n",
      "| 31663|    1|\n",
      "| 32112|    1|\n",
      "| 32113|    1|\n",
      "| 32401|    1|\n",
      "| 32890|    1|\n",
      "| 32913|    1|\n",
      "| 33072|    1|\n",
      "| 33262|    1|\n",
      "| 33289|    1|\n",
      "| 33407|    1|\n",
      "| 33665|    1|\n",
      "+------+-----+\n",
      "only showing top 20 rows\n",
      "\n"
     ]
    }
   ],
   "source": [
    "# Analyzing partition distribution\n",
    "def analyze_partitions(df, col_name):\n",
    "    return df.groupBy(F.col(col_name)) \\\n",
    "        .agg(F.count(\"*\").alias(\"count\")) \\\n",
    "        .orderBy(F.col(col_name)) \\\n",
    "        .show()\n",
    "\n",
    "print(\"\\nAnalyzing salary distribution in range partitioned data:\")\n",
    "analyze_partitions(df_range, \"salary\")"
   ]
  },
  {
   "cell_type": "code",
   "execution_count": 75,
   "metadata": {},
   "outputs": [
    {
     "name": "stdout",
     "output_type": "stream",
     "text": [
      "\n",
      "Comparing sorting performance:\n",
      "Regular sort time: 0.12279009819030762\n",
      "Range partitioned sort time: 0.20327401161193848\n",
      "\n",
      "Checking specific salary range (50000-70000):\n",
      "+---+---+------+----------+\n",
      "| id|age|salary|department|\n",
      "+---+---+------+----------+\n",
      "|  4| 41| 50951|        HR|\n",
      "| 82| 21| 50430|     Sales|\n",
      "| 98| 80| 52461|        HR|\n",
      "|133| 77| 51958|     Sales|\n",
      "|142| 80| 52591|     Sales|\n",
      "+---+---+------+----------+\n",
      "only showing top 5 rows\n",
      "\n",
      "\n",
      "Execution plan for range partitioned DataFrame:\n",
      "== Physical Plan ==\n",
      "AdaptiveSparkPlan isFinalPlan=false\n",
      "+- Exchange rangepartitioning(salary#792L ASC NULLS FIRST, 5), REPARTITION_BY_NUM, [plan_id=2707]\n",
      "   +- Project [salary#792L]\n",
      "      +- Scan ExistingRDD[id#790L,age#791L,salary#792L,department#793]\n",
      "\n",
      "\n"
     ]
    }
   ],
   "source": [
    "# Additional experiments\n",
    "print(\"\\nComparing sorting performance:\")\n",
    "from time import time\n",
    "\n",
    "# 일반 정렬\n",
    "start = time()\n",
    "df.orderBy(F.col(\"salary\")).count()\n",
    "print(f\"Regular sort time: {time() - start}\")\n",
    "\n",
    "# range partition 후 정렬\n",
    "start = time()\n",
    "df_range.orderBy(F.col(\"salary\")).count()\n",
    "print(f\"Range partitioned sort time: {time() - start}\")\n",
    "\n",
    "# 특정 범위의 데이터 확인\n",
    "print(\"\\nChecking specific salary range (50000-70000):\")\n",
    "df_range.where(\n",
    "    (F.col(\"salary\") >= 50000) & \n",
    "    (F.col(\"salary\") < 70000)\n",
    ").show(5)\n",
    "\n",
    "# 실행 계획 확인\n",
    "print(\"\\nExecution plan for range partitioned DataFrame:\")\n",
    "df_range.select(\"salary\").explain()"
   ]
  },
  {
   "cell_type": "code",
   "execution_count": 65,
   "metadata": {},
   "outputs": [],
   "source": []
  }
 ],
 "metadata": {
  "kernelspec": {
   "display_name": ".venv",
   "language": "python",
   "name": "python3"
  },
  "language_info": {
   "codemirror_mode": {
    "name": "ipython",
    "version": 3
   },
   "file_extension": ".py",
   "mimetype": "text/x-python",
   "name": "python",
   "nbconvert_exporter": "python",
   "pygments_lexer": "ipython3",
   "version": "3.12.8"
  }
 },
 "nbformat": 4,
 "nbformat_minor": 2
}

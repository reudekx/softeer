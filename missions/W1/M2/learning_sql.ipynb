{
 "cells": [
  {
   "cell_type": "code",
   "execution_count": 306,
   "metadata": {},
   "outputs": [],
   "source": [
    "import sqlite3"
   ]
  },
  {
   "cell_type": "code",
   "execution_count": 307,
   "metadata": {},
   "outputs": [],
   "source": [
    "class Database:\n",
    "    def __init__(self, db_name: str = \"test.db\") -> None:\n",
    "        self.db_name = db_name\n",
    "\n",
    "    def __enter__(self):\n",
    "        self.conn = sqlite3.connect(self.db_name)\n",
    "        self.cursor = self.conn.cursor()\n",
    "        return self\n",
    "\n",
    "    def __exit__(self, exc_type, exc_val, exc_tb):\n",
    "        if exc_type is not None:\n",
    "            self.conn.rollback()\n",
    "        self.conn.close()\n",
    "\n",
    "    def __setattr__(self, name, value):\n",
    "        if name == \"run\":\n",
    "            if isinstance(value, str):\n",
    "                self.show(value)\n",
    "            elif isinstance(value, tuple):\n",
    "                self.show(*value)\n",
    "            return\n",
    "        return super().__setattr__(name, value)\n",
    "\n",
    "    def execute(\n",
    "        self,\n",
    "        sql: str,\n",
    "        params: tuple[str, ...] | list[tuple[str, ...]] | None = None,\n",
    "    ) -> list | None:\n",
    "        try:\n",
    "            if params is None:\n",
    "                self.cursor.execute(sql)\n",
    "            elif isinstance(params, tuple):\n",
    "                self.cursor.execute(sql, params)\n",
    "            else:\n",
    "                self.cursor.executemany(sql, params)\n",
    "\n",
    "            return self.cursor.fetchall()\n",
    "        except sqlite3.Error as e:\n",
    "            raise e\n",
    "\n",
    "    def show(self, sql: str, params=None, limit=6) -> None:\n",
    "        try:\n",
    "            res = self.execute(sql, params)\n",
    "        except sqlite3.Error as e:\n",
    "            print(f\"{e}\\n\")\n",
    "            raise\n",
    "\n",
    "        if self.cursor.description is None:\n",
    "            print(\"Query successfully executed.\\n\")\n",
    "            return\n",
    "\n",
    "        columns = [desc[0] for desc in self.cursor.description]\n",
    "        print(*columns, sep=\" | \")\n",
    "\n",
    "        if len(res) <= limit:\n",
    "            print(*res, sep=\"\\n\")\n",
    "        else:\n",
    "            front_cnt = limit // 2\n",
    "            back_cnt = limit - front_cnt\n",
    "\n",
    "            print(*res[:front_cnt], sep=\"\\n\")\n",
    "            print(\"...\")\n",
    "            print(*res[-back_cnt:], sep=\"\\n\")\n",
    "\n",
    "        print(f\"{len(res)} rows × {len(columns)} columns\\n\")\n",
    "\n",
    "    def commit(self) -> None:\n",
    "        self.conn.commit()\n",
    "\n",
    "    def rollback(self) -> None:\n",
    "        self.conn.rollback()"
   ]
  },
  {
   "cell_type": "code",
   "execution_count": 308,
   "metadata": {},
   "outputs": [],
   "source": [
    "def create_tables():\n",
    "    with Database() as db:\n",
    "        db.execute(\"DROP TABLE IF EXISTS departments\")\n",
    "        db.execute(\"DROP TABLE IF EXISTS employees\")\n",
    "\n",
    "        db.execute(\n",
    "            \"\"\"\n",
    "        CREATE TABLE departments (\n",
    "            id INTEGER PRIMARY KEY,\n",
    "            name TEXT NOT NULL,\n",
    "            location TEXT,\n",
    "            budget REAL\n",
    "        )\n",
    "        \"\"\"\n",
    "        )\n",
    "\n",
    "        db.execute(\n",
    "            \"\"\"\n",
    "        CREATE TABLE employees (\n",
    "            id INTEGER PRIMARY KEY,\n",
    "            name TEXT NOT NULL,\n",
    "            age INTEGER,\n",
    "            gender TEXT,\n",
    "            address TEXT,\n",
    "            salary REAL,\n",
    "            hiredate TEXT,\n",
    "            dept_id INTEGER,\n",
    "            FOREIGN KEY (dept_id) REFERENCES departments(id)\n",
    "        )\n",
    "        \"\"\"\n",
    "        )\n",
    "\n",
    "        departments_data = [\n",
    "            (\"인사부\", \"서울\", 500000.0),\n",
    "            (\"개발부\", \"부산\", 1000000.0),\n",
    "            (\"마케팅\", \"대전\", 750000.0),\n",
    "            (\"영업부\", \"인천\", 850000.0),\n",
    "            (\"연구소\", \"서울\", 1200000.0),\n",
    "            (\"재무부\", \"부산\", 900000.0),\n",
    "            (\"고객서비스\", \"대전\", 600000.0),\n",
    "            (\"품질관리\", \"인천\", 800000.0),\n",
    "            (\"물류센터\", \"서울\", 700000.0),\n",
    "            (\"IT지원부\", \"광주\", 950000.0),\n",
    "        ]\n",
    "\n",
    "        employees_data = [\n",
    "            (\"홍길동\", 35, \"남성\", \"서울\", 45000.0, \"2020-01-15\", 1),\n",
    "            (\"김민수\", 29, \"남성\", \"부산\", 65000.0, \"2019-03-20\", 2),\n",
    "            (\"이영희\", 31, \"여성\", \"부산\", 55000.0, \"2021-05-10\", 2),\n",
    "            (\"Rodrigo\", 42, \"남성\", \"해외\", 50000.0, \"2018-11-30\", 3),\n",
    "            (\"강지민\", 27, \"여성\", \"서울\", 62000.0, \"2022-02-15\", None),\n",
    "            (\"김소진\", 33, \"여성\", \"인천\", 48000.0, \"2021-08-22\", 4),\n",
    "            (\"Zhang\", 38, \"남성\", \"해외\", 44000.0, \"2023-01-10\", None),\n",
    "            (\"신미나\", 36, \"여성\", \"서울\", 70000.0, \"2020-06-18\", 5),\n",
    "            (\"Singh\", 45, \"남성\", \"해외\", 68000.0, \"2019-12-05\", 5),\n",
    "            (\"Android123\", None, None, None, 46000.0, \"2022-09-30\", 1),\n",
    "            (\"Gomez\", 34, \"남성\", \"해외\", 58000.0, \"2021-11-15\", 5),\n",
    "            (\"한소희\", 28, \"여성\", \"대전\", 52000.0, \"2022-07-20\", 7),\n",
    "            (\"홍길동\", 99, \"남성\", \"해외\", 71000.0, \"2019-08-25\", 7),\n",
    "            (\"Wang\", 32, \"여성\", \"해외\", 63000.0, \"2020-04-12\", 9),\n",
    "            (\"조성민\", 37, \"남성\", \"광주\", 69000.0, \"2021-03-08\", 10),\n",
    "            (\"Chen\", 35, \"여성\", \"해외\", 57000.0, \"2022-05-15\", None),\n",
    "            (\"Kumar\", 39, \"남성\", \"해외\", 61000.0, \"2021-07-22\", None),\n",
    "        ]\n",
    "\n",
    "        db.execute(\n",
    "            \"INSERT INTO departments (name, location, budget) VALUES (?, ?, ?)\",\n",
    "            departments_data,\n",
    "        )\n",
    "        db.execute(\n",
    "            \"INSERT INTO employees (name, age, gender, address, salary, hiredate, dept_id) VALUES (?, ?, ?, ?, ?, ?, ?)\",\n",
    "            employees_data,\n",
    "        )\n",
    "        db.commit()\n",
    "\n",
    "\n",
    "create_tables()"
   ]
  },
  {
   "cell_type": "code",
   "execution_count": 309,
   "metadata": {},
   "outputs": [
    {
     "name": "stdout",
     "output_type": "stream",
     "text": [
      "id | name | age | gender | address | salary | hiredate | dept_id\n",
      "(1, '홍길동', 35, '남성', '서울', 45000.0, '2020-01-15', 1)\n",
      "(2, '김민수', 29, '남성', '부산', 65000.0, '2019-03-20', 2)\n",
      "(3, '이영희', 31, '여성', '부산', 55000.0, '2021-05-10', 2)\n",
      "...\n",
      "(15, '조성민', 37, '남성', '광주', 69000.0, '2021-03-08', 10)\n",
      "(16, 'Chen', 35, '여성', '해외', 57000.0, '2022-05-15', None)\n",
      "(17, 'Kumar', 39, '남성', '해외', 61000.0, '2021-07-22', None)\n",
      "17 rows × 8 columns\n",
      "\n",
      "id | name | location | budget\n",
      "(1, '인사부', '서울', 500000.0)\n",
      "(2, '개발부', '부산', 1000000.0)\n",
      "(3, '마케팅', '대전', 750000.0)\n",
      "...\n",
      "(8, '품질관리', '인천', 800000.0)\n",
      "(9, '물류센터', '서울', 700000.0)\n",
      "(10, 'IT지원부', '광주', 950000.0)\n",
      "10 rows × 4 columns\n",
      "\n",
      "name | salary\n",
      "('홍길동', 45000.0)\n",
      "('김민수', 65000.0)\n",
      "('이영희', 55000.0)\n",
      "...\n",
      "('조성민', 69000.0)\n",
      "('Chen', 57000.0)\n",
      "('Kumar', 61000.0)\n",
      "17 rows × 2 columns\n",
      "\n"
     ]
    }
   ],
   "source": [
    "# SQL HOME, Intro, Syntax, Select\n",
    "with Database() as db:\n",
    "    db.run = \"SELECT * FROM employees\"\n",
    "    db.run = \"SELECT * FROM departments\"\n",
    "    db.run = \"SELECT name, salary FROM employees\""
   ]
  },
  {
   "cell_type": "code",
   "execution_count": 310,
   "metadata": {},
   "outputs": [
    {
     "name": "stdout",
     "output_type": "stream",
     "text": [
      "gender\n",
      "('남성',)\n",
      "('여성',)\n",
      "(None,)\n",
      "3 rows × 1 columns\n",
      "\n",
      "COUNT(DISTINCT gender)\n",
      "(2,)\n",
      "1 rows × 1 columns\n",
      "\n"
     ]
    }
   ],
   "source": [
    "# SQL Select Distinct\n",
    "with Database() as db:\n",
    "    db.run = \"SELECT DISTINCT gender FROM employees\"\n",
    "    db.run = \"SELECT COUNT(DISTINCT gender) FROM employees\""
   ]
  },
  {
   "cell_type": "code",
   "execution_count": 311,
   "metadata": {},
   "outputs": [
    {
     "name": "stdout",
     "output_type": "stream",
     "text": [
      "name | gender\n",
      "('홍길동', '남성')\n",
      "('김민수', '남성')\n",
      "('Rodrigo', '남성')\n",
      "...\n",
      "('홍길동', '남성')\n",
      "('조성민', '남성')\n",
      "('Kumar', '남성')\n",
      "9 rows × 2 columns\n",
      "\n",
      "name | salary\n",
      "('김민수', 65000.0)\n",
      "('강지민', 62000.0)\n",
      "('신미나', 70000.0)\n",
      "...\n",
      "('Wang', 63000.0)\n",
      "('조성민', 69000.0)\n",
      "('Kumar', 61000.0)\n",
      "8 rows × 2 columns\n",
      "\n"
     ]
    }
   ],
   "source": [
    "# SQL Where\n",
    "with Database() as db:\n",
    "    db.run = \"SELECT name, gender FROM employees WHERE gender = '남성'\"\n",
    "    db.run = \"SELECT name, salary FROM employees WHERE salary > 60000\""
   ]
  },
  {
   "cell_type": "code",
   "execution_count": 312,
   "metadata": {},
   "outputs": [
    {
     "name": "stdout",
     "output_type": "stream",
     "text": [
      "name | age\n",
      "('홍길동', 99)\n",
      "('Singh', 45)\n",
      "('Rodrigo', 42)\n",
      "...\n",
      "('한소희', 28)\n",
      "('강지민', 27)\n",
      "('Android123', None)\n",
      "17 rows × 2 columns\n",
      "\n",
      "name | age\n",
      "('Android123', None)\n",
      "('Chen', 35)\n",
      "('Gomez', 34)\n",
      "...\n",
      "('한소희', 28)\n",
      "('홍길동', 99)\n",
      "('홍길동', 35)\n",
      "17 rows × 2 columns\n",
      "\n"
     ]
    }
   ],
   "source": [
    "# SQL Order By\n",
    "with Database() as db:\n",
    "    db.run = \"SELECT name, age FROM employees ORDER BY age DESC\"\n",
    "    db.run = \"SELECT name, age FROM employees ORDER BY name ASC, age DESC\""
   ]
  },
  {
   "cell_type": "code",
   "execution_count": 313,
   "metadata": {},
   "outputs": [
    {
     "name": "stdout",
     "output_type": "stream",
     "text": [
      "name | gender\n",
      "('김민수', '남성')\n",
      "1 rows × 2 columns\n",
      "\n",
      "name | location\n",
      "('인사부', '서울')\n",
      "('개발부', '부산')\n",
      "('연구소', '서울')\n",
      "('재무부', '부산')\n",
      "('물류센터', '서울')\n",
      "5 rows × 2 columns\n",
      "\n",
      "name | location\n",
      "('개발부', '부산')\n",
      "('마케팅', '대전')\n",
      "('영업부', '인천')\n",
      "...\n",
      "('고객서비스', '대전')\n",
      "('품질관리', '인천')\n",
      "('IT지원부', '광주')\n",
      "7 rows × 2 columns\n",
      "\n",
      "id | name | age | gender | address | salary | hiredate | dept_id\n",
      "(3, '이영희', 31, '여성', '부산', 55000.0, '2021-05-10', 2)\n",
      "(6, '김소진', 33, '여성', '인천', 48000.0, '2021-08-22', 4)\n",
      "2 rows × 8 columns\n",
      "\n"
     ]
    }
   ],
   "source": [
    "# SQL And, Or, Not\n",
    "with Database() as db:\n",
    "    db.run = \"SELECT name, gender FROM employees WHERE name like '김%' AND gender = '남성'\"\n",
    "    db.run = \"SELECT name, location FROM departments WHERE location = '서울' OR location = '부산'\"\n",
    "    db.run = (\n",
    "        \"SELECT name, location FROM departments WHERE Not location = '서울'\"\n",
    "    )\n",
    "    # Combining AND, OR, and NOT\n",
    "    db.run = \"SELECT * FROM employees WHERE (name like '김%' OR name like '이%') AND NOT gender = '남성'\""
   ]
  },
  {
   "cell_type": "code",
   "execution_count": 314,
   "metadata": {},
   "outputs": [
    {
     "name": "stdout",
     "output_type": "stream",
     "text": [
      "id | name | location | budget\n",
      "\n",
      "0 rows × 4 columns\n",
      "\n",
      "Query successfully executed.\n",
      "\n",
      "id | name | location | budget\n",
      "(11, '인턴부', '서울', 300000.0)\n",
      "1 rows × 4 columns\n",
      "\n",
      "count(*)\n",
      "(10,)\n",
      "1 rows × 1 columns\n",
      "\n",
      "Query successfully executed.\n",
      "\n",
      "count(*)\n",
      "(13,)\n",
      "1 rows × 1 columns\n",
      "\n"
     ]
    }
   ],
   "source": [
    "# SQL Insert Into\n",
    "with Database() as db:\n",
    "    db.run = \"SELECT * FROM departments WHERE name = '인턴부'\"\n",
    "    db.run = \"INSERT INTO departments (name, location, budget) VALUES ('인턴부', '서울', 300000.0)\"\n",
    "    db.run = \"SELECT * FROM departments WHERE name = '인턴부'\"\n",
    "\n",
    "    db.rollback()\n",
    "\n",
    "    db.run = \"SELECT count(*) FROM departments\"\n",
    "    db.run = \"\"\"\n",
    "        INSERT INTO departments (name, location, budget) \n",
    "        VALUES\n",
    "            ('인턴부', '서울', 300000.0),\n",
    "            ('인턴부2', '서울', 300000.0),\n",
    "            ('인턴부3', '서울', 300000.0)\n",
    "    \"\"\"\n",
    "    db.run = \"SELECT count(*) FROM departments\"\n",
    "\n",
    "    db.rollback()"
   ]
  },
  {
   "cell_type": "code",
   "execution_count": 315,
   "metadata": {},
   "outputs": [
    {
     "name": "stdout",
     "output_type": "stream",
     "text": [
      "id | name | age | gender | address | salary | hiredate | dept_id\n",
      "(10, 'Android123', None, None, None, 46000.0, '2022-09-30', 1)\n",
      "1 rows × 8 columns\n",
      "\n",
      "id | name | age | gender | address | salary | hiredate | dept_id\n",
      "(1, '홍길동', 35, '남성', '서울', 45000.0, '2020-01-15', 1)\n",
      "(2, '김민수', 29, '남성', '부산', 65000.0, '2019-03-20', 2)\n",
      "(3, '이영희', 31, '여성', '부산', 55000.0, '2021-05-10', 2)\n",
      "...\n",
      "(15, '조성민', 37, '남성', '광주', 69000.0, '2021-03-08', 10)\n",
      "(16, 'Chen', 35, '여성', '해외', 57000.0, '2022-05-15', None)\n",
      "(17, 'Kumar', 39, '남성', '해외', 61000.0, '2021-07-22', None)\n",
      "16 rows × 8 columns\n",
      "\n"
     ]
    }
   ],
   "source": [
    "# SQL Null Values\n",
    "with Database() as db:\n",
    "    db.run = \"SELECT * FROM employees WHERE address IS NULL\"\n",
    "    db.run = \"SELECT * FROM employees WHERE address IS NOT NULL\""
   ]
  },
  {
   "cell_type": "code",
   "execution_count": 316,
   "metadata": {},
   "outputs": [
    {
     "name": "stdout",
     "output_type": "stream",
     "text": [
      "id | name | age | gender | address | salary | hiredate | dept_id\n",
      "(2, '김민수', 29, '남성', '부산', 65000.0, '2019-03-20', 2)\n",
      "1 rows × 8 columns\n",
      "\n",
      "Query successfully executed.\n",
      "\n",
      "id | name | age | gender | address | salary | hiredate | dept_id\n",
      "(2, '김민수', 29, '남성', '부산', 70000.0, '2019-03-20', 2)\n",
      "1 rows × 8 columns\n",
      "\n",
      "id | name | age | gender | address | salary | hiredate | dept_id\n",
      "(1, '홍길동', 35, '남성', '서울', 45000.0, '2020-01-15', 1)\n",
      "(2, '김민수', 29, '남성', '부산', 65000.0, '2019-03-20', 2)\n",
      "(4, 'Rodrigo', 42, '남성', '해외', 50000.0, '2018-11-30', 3)\n",
      "...\n",
      "(13, '홍길동', 99, '남성', '해외', 71000.0, '2019-08-25', 7)\n",
      "(15, '조성민', 37, '남성', '광주', 69000.0, '2021-03-08', 10)\n",
      "(17, 'Kumar', 39, '남성', '해외', 61000.0, '2021-07-22', None)\n",
      "9 rows × 8 columns\n",
      "\n",
      "Query successfully executed.\n",
      "\n",
      "id | name | age | gender | address | salary | hiredate | dept_id\n",
      "(1, '홍길동', 35, '남성', '서울', 0.0, '2020-01-15', 1)\n",
      "(2, '김민수', 29, '남성', '부산', 0.0, '2019-03-20', 2)\n",
      "(4, 'Rodrigo', 42, '남성', '해외', 0.0, '2018-11-30', 3)\n",
      "...\n",
      "(13, '홍길동', 99, '남성', '해외', 0.0, '2019-08-25', 7)\n",
      "(15, '조성민', 37, '남성', '광주', 0.0, '2021-03-08', 10)\n",
      "(17, 'Kumar', 39, '남성', '해외', 0.0, '2021-07-22', None)\n",
      "9 rows × 8 columns\n",
      "\n"
     ]
    }
   ],
   "source": [
    "# SQL Update\n",
    "with Database() as db:\n",
    "    db.run = \"SELECT * FROM employees WHERE name = '김민수'\"\n",
    "    db.run = \"UPDATE employees SET salary = 70000 WHERE name = '김민수'\"\n",
    "    db.run = \"SELECT * FROM employees WHERE name = '김민수'\"\n",
    "\n",
    "    db.rollback()\n",
    "\n",
    "    db.run = \"SELECT * FROM employees WHERE gender = '남성'\"\n",
    "    db.run = \"UPDATE employees SET salary = 0 WHERE gender = '남성'\"\n",
    "    db.run = \"SELECT * FROM employees WHERE gender = '남성'\"\n",
    "\n",
    "    db.rollback()"
   ]
  },
  {
   "cell_type": "code",
   "execution_count": 317,
   "metadata": {},
   "outputs": [
    {
     "name": "stdout",
     "output_type": "stream",
     "text": [
      "id | name | age | gender | address | salary | hiredate | dept_id\n",
      "(2, '김민수', 29, '남성', '부산', 65000.0, '2019-03-20', 2)\n",
      "1 rows × 8 columns\n",
      "\n",
      "Query successfully executed.\n",
      "\n",
      "id | name | age | gender | address | salary | hiredate | dept_id\n",
      "\n",
      "0 rows × 8 columns\n",
      "\n",
      "id | name | age | gender | address | salary | hiredate | dept_id\n",
      "(1, '홍길동', 35, '남성', '서울', 45000.0, '2020-01-15', 1)\n",
      "(2, '김민수', 29, '남성', '부산', 65000.0, '2019-03-20', 2)\n",
      "(3, '이영희', 31, '여성', '부산', 55000.0, '2021-05-10', 2)\n",
      "...\n",
      "(15, '조성민', 37, '남성', '광주', 69000.0, '2021-03-08', 10)\n",
      "(16, 'Chen', 35, '여성', '해외', 57000.0, '2022-05-15', None)\n",
      "(17, 'Kumar', 39, '남성', '해외', 61000.0, '2021-07-22', None)\n",
      "17 rows × 8 columns\n",
      "\n",
      "Query successfully executed.\n",
      "\n",
      "id | name | age | gender | address | salary | hiredate | dept_id\n",
      "\n",
      "0 rows × 8 columns\n",
      "\n"
     ]
    }
   ],
   "source": [
    "# SQL Delete\n",
    "with Database() as db:\n",
    "    db.run = \"SELECT * FROM employees WHERE name = '김민수'\"\n",
    "    db.run = \"DELETE FROM employees WHERE name = '김민수'\"\n",
    "    db.run = \"SELECT * FROM employees WHERE name = '김민수'\"\n",
    "\n",
    "    db.rollback()\n",
    "\n",
    "    db.run = \"SELECT * FROM employees\"\n",
    "    db.run = \"DELETE FROM employees\"\n",
    "    db.run = \"SELECT * FROM employees\"\n",
    "\n",
    "    db.rollback()\n",
    "\n",
    "    # Warning: This will not be rolled back\n",
    "    # db.run = \"DROP TABLE employees\""
   ]
  },
  {
   "cell_type": "code",
   "execution_count": 318,
   "metadata": {},
   "outputs": [
    {
     "name": "stdout",
     "output_type": "stream",
     "text": [
      "id | name | age | gender | address | salary | hiredate | dept_id\n",
      "(13, '홍길동', 99, '남성', '해외', 71000.0, '2019-08-25', 7)\n",
      "(9, 'Singh', 45, '남성', '해외', 68000.0, '2019-12-05', 5)\n",
      "(4, 'Rodrigo', 42, '남성', '해외', 50000.0, '2018-11-30', 3)\n",
      "3 rows × 8 columns\n",
      "\n"
     ]
    }
   ],
   "source": [
    "# SQL Select Top\n",
    "with Database() as db:\n",
    "    # Limit\n",
    "    db.run = (\n",
    "        \"SELECT * FROM employees WHERE age > 40 ORDER BY salary DESC LIMIT 3\"\n",
    "    )"
   ]
  },
  {
   "cell_type": "code",
   "execution_count": 319,
   "metadata": {},
   "outputs": [
    {
     "name": "stdout",
     "output_type": "stream",
     "text": [
      "MAX(salary)\n",
      "(71000.0,)\n",
      "1 rows × 1 columns\n",
      "\n",
      "MIN(salary)\n",
      "(44000.0,)\n",
      "1 rows × 1 columns\n",
      "\n",
      "Max Salary | Min Salary | address\n",
      "(46000.0, 46000.0, None)\n",
      "(69000.0, 69000.0, '광주')\n",
      "(52000.0, 52000.0, '대전')\n",
      "...\n",
      "(70000.0, 45000.0, '서울')\n",
      "(48000.0, 48000.0, '인천')\n",
      "(71000.0, 44000.0, '해외')\n",
      "7 rows × 3 columns\n",
      "\n"
     ]
    }
   ],
   "source": [
    "# SQL Min and Max\n",
    "with Database() as db:\n",
    "    db.run = \"SELECT MAX(salary) FROM employees\"\n",
    "    db.run = \"SELECT MIN(salary) FROM employees\"\n",
    "    db.run = \"SELECT MAX(salary) as [Max Salary], MIN(salary) as [Min Salary], address FROM employees GROUP BY address\""
   ]
  },
  {
   "cell_type": "code",
   "execution_count": 320,
   "metadata": {},
   "outputs": [
    {
     "name": "stdout",
     "output_type": "stream",
     "text": [
      "COUNT(*)\n",
      "(17,)\n",
      "1 rows × 1 columns\n",
      "\n",
      "COUNT(DISTINCT address)\n",
      "(6,)\n",
      "1 rows × 1 columns\n",
      "\n",
      "Number of Employees | address\n",
      "(1, None)\n",
      "(1, '광주')\n",
      "(1, '대전')\n",
      "...\n",
      "(3, '서울')\n",
      "(1, '인천')\n",
      "(8, '해외')\n",
      "7 rows × 2 columns\n",
      "\n"
     ]
    }
   ],
   "source": [
    "# SQL Count\n",
    "with Database() as db:\n",
    "    db.run = \"SELECT COUNT(*) FROM employees\"\n",
    "    db.run = \"SELECT COUNT(DISTINCT address) FROM employees\"\n",
    "    db.run = \"SELECT COUNT(*) as [Number of Employees], address FROM employees GROUP BY address\""
   ]
  },
  {
   "cell_type": "code",
   "execution_count": 321,
   "metadata": {},
   "outputs": [
    {
     "name": "stdout",
     "output_type": "stream",
     "text": [
      "SUM(salary)\n",
      "(984000.0,)\n",
      "1 rows × 1 columns\n",
      "\n",
      "SUM(salary)\n",
      "(177000.0,)\n",
      "1 rows × 1 columns\n",
      "\n",
      "Total Salary | address\n",
      "(46000.0, None)\n",
      "(69000.0, '광주')\n",
      "(52000.0, '대전')\n",
      "...\n",
      "(177000.0, '서울')\n",
      "(48000.0, '인천')\n",
      "(472000.0, '해외')\n",
      "7 rows × 2 columns\n",
      "\n",
      "Total Salary (in 1000s) | address\n",
      "(46.0, None)\n",
      "(69.0, '광주')\n",
      "(52.0, '대전')\n",
      "...\n",
      "(177.0, '서울')\n",
      "(48.0, '인천')\n",
      "(472.0, '해외')\n",
      "7 rows × 2 columns\n",
      "\n"
     ]
    }
   ],
   "source": [
    "# SQL Sum\n",
    "with Database() as db:\n",
    "    db.run = \"SELECT SUM(salary) FROM employees\"\n",
    "    db.run = \"SELECT SUM(salary) FROM employees WHERE address = '서울'\"\n",
    "    db.run = \"SELECT SUM(salary) as [Total Salary], address FROM employees GROUP BY address\"\n",
    "\n",
    "    db.run = \"SELECT SUM(salary / 1000) as [Total Salary (in 1000s)], address FROM employees GROUP BY address\""
   ]
  },
  {
   "cell_type": "code",
   "execution_count": 322,
   "metadata": {},
   "outputs": [
    {
     "name": "stdout",
     "output_type": "stream",
     "text": [
      "Average Salary (in 1000s) | address\n",
      "(46.0, None)\n",
      "(69.0, '광주')\n",
      "(52.0, '대전')\n",
      "...\n",
      "(59.0, '서울')\n",
      "(48.0, '인천')\n",
      "(59.0, '해외')\n",
      "7 rows × 2 columns\n",
      "\n",
      "AVG(salary)\n",
      "(57882.35294117647,)\n",
      "1 rows × 1 columns\n",
      "\n",
      "name | salary\n",
      "('김민수', 65000.0)\n",
      "('강지민', 62000.0)\n",
      "('신미나', 70000.0)\n",
      "...\n",
      "('Wang', 63000.0)\n",
      "('조성민', 69000.0)\n",
      "('Kumar', 61000.0)\n",
      "9 rows × 2 columns\n",
      "\n"
     ]
    }
   ],
   "source": [
    "# SQL Avg\n",
    "with Database() as db:\n",
    "    db.run = \"SELECT AVG(salary) / 1000 as [Average Salary (in 1000s)], address FROM employees GROUP BY address\"\n",
    "    db.run = \"SELECT AVG(salary) FROM employees\"\n",
    "    db.run = \"SELECT name, salary FROM employees WHERE salary > (SELECT AVG(salary) FROM employees)\""
   ]
  },
  {
   "cell_type": "code",
   "execution_count": 323,
   "metadata": {},
   "outputs": [
    {
     "name": "stdout",
     "output_type": "stream",
     "text": [
      "name | age | gender\n",
      "('김민수', 29, '남성')\n",
      "('김소진', 33, '여성')\n",
      "2 rows × 3 columns\n",
      "\n",
      "name | age | gender\n",
      "('김소진', 33, '여성')\n",
      "('한소희', 28, '여성')\n",
      "2 rows × 3 columns\n",
      "\n",
      "name | age | gender\n",
      "('김민수', 29, '남성')\n",
      "('강지민', 27, '여성')\n",
      "('조성민', 37, '남성')\n",
      "3 rows × 3 columns\n",
      "\n",
      "name | age | gender\n",
      "('김민수', 29, '남성')\n",
      "1 rows × 3 columns\n",
      "\n"
     ]
    }
   ],
   "source": [
    "# SQL Like\n",
    "with Database() as db:\n",
    "    db.run = \"SELECT name, age, gender FROM employees WHERE name LIKE '김%'\"\n",
    "    db.run = \"SELECT name, age, gender FROM employees WHERE name LIKE '_소_'\"\n",
    "    db.run = \"SELECT name, age, gender FROM employees WHERE name LIKE '%민%'\"\n",
    "    db.run = \"SELECT name, age, gender FROM employees WHERE name LIKE '_민%'\""
   ]
  },
  {
   "cell_type": "code",
   "execution_count": 324,
   "metadata": {},
   "outputs": [
    {
     "name": "stdout",
     "output_type": "stream",
     "text": [
      "name | address\n",
      "('Rodrigo', '해외')\n",
      "('Zhang', '해외')\n",
      "('Singh', '해외')\n",
      "...\n",
      "('Wang', '해외')\n",
      "('Chen', '해외')\n",
      "('Kumar', '해외')\n",
      "8 rows × 2 columns\n",
      "\n",
      "name | address\n",
      "('Android123', None)\n",
      "1 rows × 2 columns\n",
      "\n"
     ]
    }
   ],
   "source": [
    "# SQL Wildcards\n",
    "with Database() as db:\n",
    "    db.run = \"SELECT name, address FROM employees WHERE name GLOB '*[a-z]*'\"\n",
    "    db.run = \"SELECT name, address FROM employees WHERE name GLOB '*[0-9]*'\""
   ]
  },
  {
   "cell_type": "code",
   "execution_count": 325,
   "metadata": {},
   "outputs": [
    {
     "name": "stdout",
     "output_type": "stream",
     "text": [
      "name | address\n",
      "('홍길동', '서울')\n",
      "('김민수', '부산')\n",
      "('이영희', '부산')\n",
      "('강지민', '서울')\n",
      "('신미나', '서울')\n",
      "5 rows × 2 columns\n",
      "\n",
      "name | address\n",
      "('Rodrigo', '해외')\n",
      "('김소진', '인천')\n",
      "('Zhang', '해외')\n",
      "...\n",
      "('조성민', '광주')\n",
      "('Chen', '해외')\n",
      "('Kumar', '해외')\n",
      "11 rows × 2 columns\n",
      "\n",
      "name | location\n",
      "('재무부', '부산')\n",
      "('품질관리', '인천')\n",
      "2 rows × 2 columns\n",
      "\n"
     ]
    }
   ],
   "source": [
    "# SQL In\n",
    "with Database() as db:\n",
    "    db.run = (\n",
    "        \"SELECT name, address FROM employees WHERE address IN ('서울', '부산')\"\n",
    "    )\n",
    "    db.run = \"SELECT name, address FROM employees WHERE address NOT IN ('서울', '부산')\"\n",
    "\n",
    "    # 서브쿼리의 결과에 NULL이 포함되면 NOT IN의 연산결과는 항상 UNKNOWN이 된다.\n",
    "    # id != A and id != B and id != NULL and ... -> UNKNOWN\n",
    "    # 따라서 서브쿼리 연산 시 NULL을 제외해야 한다.\n",
    "    # 다만 IN 연산 시에는 NULL을 제외하지 않아도 된다. (id = A or id = B or id = NULL or ...)\n",
    "    db.run = \"\"\"\n",
    "        SELECT name, location \n",
    "        FROM departments \n",
    "        WHERE id NOT IN (\n",
    "            SELECT distinct dept_id \n",
    "            FROM employees \n",
    "            WHERE dept_id IS NOT NULL\n",
    "        )\n",
    "    \"\"\""
   ]
  },
  {
   "cell_type": "code",
   "execution_count": 326,
   "metadata": {},
   "outputs": [
    {
     "name": "stdout",
     "output_type": "stream",
     "text": [
      "name | salary\n",
      "('이영희', 55000.0)\n",
      "1 rows × 2 columns\n",
      "\n",
      "name | age | gender\n",
      "('김민수', 29, '남성')\n",
      "('이영희', 31, '여성')\n",
      "('김소진', 33, '여성')\n",
      "('신미나', 36, '여성')\n",
      "4 rows × 3 columns\n",
      "\n",
      "name | hiredate\n",
      "('김민수', '2019-03-20')\n",
      "('Rodrigo', '2018-11-30')\n",
      "('강지민', '2022-02-15')\n",
      "...\n",
      "('한소희', '2022-07-20')\n",
      "('홍길동', '2019-08-25')\n",
      "('Chen', '2022-05-15')\n",
      "9 rows × 2 columns\n",
      "\n"
     ]
    }
   ],
   "source": [
    "# SQL Between\n",
    "with Database() as db:\n",
    "    db.run = \"SELECT name, salary FROM employees WHERE salary BETWEEN 50000 AND 60000 AND address IN ('서울', '부산')\"\n",
    "\n",
    "    db.run = \"SELECT name, age, gender FROM employees WHERE name BETWEEN '김' AND '조'\"\n",
    "    db.run = \"SELECT name, hiredate FROM employees WHERE hiredate NOT BETWEEN '2020-01-01' AND '2021-12-31'\""
   ]
  },
  {
   "cell_type": "code",
   "execution_count": 327,
   "metadata": {},
   "outputs": [
    {
     "name": "stdout",
     "output_type": "stream",
     "text": [
      "Full Name | Annual Salary\n",
      "('홍길동', 540000.0)\n",
      "('김민수', 780000.0)\n",
      "('이영희', 660000.0)\n",
      "...\n",
      "('조성민', 828000.0)\n",
      "('Chen', 684000.0)\n",
      "('Kumar', 732000.0)\n",
      "17 rows × 2 columns\n",
      "\n",
      "name | Info\n",
      "('홍길동', '35 남성')\n",
      "('김민수', '29 남성')\n",
      "('이영희', '31 여성')\n",
      "...\n",
      "('조성민', '37 남성')\n",
      "('Chen', '35 여성')\n",
      "('Kumar', '39 남성')\n",
      "17 rows × 2 columns\n",
      "\n",
      "Employee Name | Department Name\n",
      "('홍길동', '인사부')\n",
      "('김민수', '개발부')\n",
      "('이영희', '개발부')\n",
      "...\n",
      "('홍길동', '고객서비스')\n",
      "('Wang', '물류센터')\n",
      "('조성민', 'IT지원부')\n",
      "13 rows × 2 columns\n",
      "\n"
     ]
    }
   ],
   "source": [
    "# SQL Aliases\n",
    "with Database() as db:\n",
    "    db.run = \"SELECT name as [Full Name], salary * 12 as [Annual Salary] FROM employees\"\n",
    "    db.run = \"SELECT name, age || ' ' || gender as [Info] FROM employees\"\n",
    "\n",
    "    db.run = \"\"\"\n",
    "        SELECT e.name as [Employee Name], d.name as [Department Name]\n",
    "        FROM employees e, departments d\n",
    "        ON e.dept_id = d.id\n",
    "    \"\"\""
   ]
  },
  {
   "cell_type": "code",
   "execution_count": 328,
   "metadata": {},
   "outputs": [
    {
     "name": "stdout",
     "output_type": "stream",
     "text": [
      "Employee | Department\n",
      "('홍길동', '인사부')\n",
      "('김민수', '개발부')\n",
      "('이영희', '개발부')\n",
      "...\n",
      "('홍길동', '고객서비스')\n",
      "('Wang', '물류센터')\n",
      "('조성민', 'IT지원부')\n",
      "13 rows × 2 columns\n",
      "\n"
     ]
    }
   ],
   "source": [
    "# SQL Joins, Inner Join\n",
    "with Database() as db:\n",
    "    # JOIN is the same as INNER JOIN\n",
    "    db.run = \"SELECT e.name as Employee, d.name as Department FROM employees e INNER JOIN departments d ON e.dept_id = d.id\""
   ]
  },
  {
   "cell_type": "code",
   "execution_count": 329,
   "metadata": {},
   "outputs": [
    {
     "name": "stdout",
     "output_type": "stream",
     "text": [
      "Employee | Department\n",
      "('홍길동', '인사부')\n",
      "('김민수', '개발부')\n",
      "('이영희', '개발부')\n",
      "...\n",
      "('조성민', 'IT지원부')\n",
      "('Chen', None)\n",
      "('Kumar', None)\n",
      "17 rows × 2 columns\n",
      "\n",
      "Employee | Department\n",
      "('홍길동', '인사부')\n",
      "('김민수', '개발부')\n",
      "('이영희', '개발부')\n",
      "...\n",
      "('조성민', 'IT지원부')\n",
      "(None, '재무부')\n",
      "(None, '품질관리')\n",
      "15 rows × 2 columns\n",
      "\n",
      "Employee | Department\n",
      "('홍길동', '인사부')\n",
      "('김민수', '개발부')\n",
      "('이영희', '개발부')\n",
      "...\n",
      "('Kumar', None)\n",
      "(None, '재무부')\n",
      "(None, '품질관리')\n",
      "19 rows × 2 columns\n",
      "\n"
     ]
    }
   ],
   "source": [
    "# SQL Left Join, Right Join, Full Join\n",
    "with Database() as db:\n",
    "    db.run = \"SELECT e.name as Employee, d.name as Department FROM employees e LEFT JOIN departments d ON e.dept_id = d.id\"\n",
    "    db.run = \"SELECT e.name as Employee, d.name as Department FROM employees e RIGHT JOIN departments d ON e.dept_id = d.id\"\n",
    "    db.run = \"SELECt e.name as Employee, d.name as Department FROM employees e FULL JOIN departments d ON e.dept_id = d.id\""
   ]
  },
  {
   "cell_type": "code",
   "execution_count": 330,
   "metadata": {},
   "outputs": [
    {
     "name": "stdout",
     "output_type": "stream",
     "text": [
      "Employee | Manager\n",
      "('홍길동', 'Android123')\n",
      "('김민수', '이영희')\n",
      "('신미나', 'Gomez')\n",
      "('신미나', 'Singh')\n",
      "('Singh', 'Gomez')\n",
      "('한소희', '홍길동')\n",
      "6 rows × 2 columns\n",
      "\n"
     ]
    }
   ],
   "source": [
    "# SQL Self Join\n",
    "with Database() as db:\n",
    "    db.run = \"\"\"\n",
    "        SELECT e1.name as [Employee], e2.name as [Manager]\n",
    "        FROM employees e1, employees e2\n",
    "        WHERE e1.dept_id = e2.dept_id AND e1.id < e2.id\n",
    "    \"\"\""
   ]
  },
  {
   "cell_type": "code",
   "execution_count": 331,
   "metadata": {},
   "outputs": [
    {
     "name": "stdout",
     "output_type": "stream",
     "text": [
      "name\n",
      "('Android123',)\n",
      "('Chen',)\n",
      "('Gomez',)\n",
      "...\n",
      "('품질관리',)\n",
      "('한소희',)\n",
      "('홍길동',)\n",
      "26 rows × 1 columns\n",
      "\n",
      "name\n",
      "('홍길동',)\n",
      "('김민수',)\n",
      "('이영희',)\n",
      "...\n",
      "('품질관리',)\n",
      "('물류센터',)\n",
      "('IT지원부',)\n",
      "27 rows × 1 columns\n",
      "\n",
      "직원 혹은 부서 이름 | 지역\n",
      "('조성민', '광주')\n",
      "('IT지원부', '광주')\n",
      "('마케팅', '대전')\n",
      "...\n",
      "('Gomez', '해외')\n",
      "('홍길동', '해외')\n",
      "('Kumar', '해외')\n",
      "19 rows × 2 columns\n",
      "\n"
     ]
    }
   ],
   "source": [
    "# SQL Union\n",
    "with Database() as db:\n",
    "    # UNION은 중복을 제거한다. (출력 결과를 보니 중복 제거 과정에서 정렬을 수행하는 것으로 보인다.)\n",
    "    db.run = \"SELECT name FROM employees UNION SELECT name FROM departments\"\n",
    "    # UNION ALL은 중복을 제거하지 않는다.\n",
    "    db.run = (\n",
    "        \"SELECT name FROM employees UNION ALL SELECT name FROM departments\"\n",
    "    )\n",
    "\n",
    "    db.run = \"\"\"\n",
    "        SELECT name as [직원 혹은 부서 이름], address as 지역 FROM employees\n",
    "        WHERE gender = '남성'\n",
    "        UNION ALL\n",
    "        SELECT name, location FROM departments\n",
    "        ORDER BY address\n",
    "    \"\"\""
   ]
  },
  {
   "cell_type": "code",
   "execution_count": 332,
   "metadata": {},
   "outputs": [
    {
     "name": "stdout",
     "output_type": "stream",
     "text": [
      "address | Number of Employees | Average Salary\n",
      "(None, 1, 46000.0)\n",
      "('광주', 1, 69000.0)\n",
      "('대전', 1, 52000.0)\n",
      "...\n",
      "('서울', 3, 59000.0)\n",
      "('인천', 1, 48000.0)\n",
      "('해외', 8, 59000.0)\n",
      "7 rows × 3 columns\n",
      "\n",
      "Department | Number of Employees\n",
      "('연구소', 3)\n",
      "('인사부', 2)\n",
      "('개발부', 2)\n",
      "...\n",
      "('IT지원부', 1)\n",
      "('재무부', 0)\n",
      "('품질관리', 0)\n",
      "10 rows × 2 columns\n",
      "\n"
     ]
    }
   ],
   "source": [
    "# SQL Group By\n",
    "with Database() as db:\n",
    "    db.run = \"SELECT address, COUNT(*) as [Number of Employees], AVG(salary) as [Average Salary] FROM employees GROUP BY address\"\n",
    "\n",
    "    db.run = \"\"\"\n",
    "        SELECT d.name as [Department], COUNT(e.id) as [Number of Employees]\n",
    "        FROM departments d\n",
    "            LEFT JOIN employees e\n",
    "                ON d.id = e.dept_id\n",
    "        GROUP BY d.id\n",
    "        ORDER BY [Number of Employees] DESC\n",
    "    \"\"\""
   ]
  },
  {
   "cell_type": "code",
   "execution_count": 333,
   "metadata": {},
   "outputs": [
    {
     "name": "stdout",
     "output_type": "stream",
     "text": [
      "Department | Number of Employees\n",
      "('연구소', 3)\n",
      "('인사부', 2)\n",
      "('개발부', 2)\n",
      "('고객서비스', 2)\n",
      "4 rows × 2 columns\n",
      "\n"
     ]
    }
   ],
   "source": [
    "# SQL Having\n",
    "with Database() as db:\n",
    "    # SQL 표준에는 HAVING 절에서 별칭을 사용할 수 없다고 되어 있지만, 특정 DBMS에서는 사용이 가능하다고 함.\n",
    "    db.run = \"\"\"\n",
    "        SELECT d.name as [Department], COUNT(e.id) as [Number of Employees]\n",
    "        FROM departments d\n",
    "            LEFT JOIN employees e\n",
    "                ON d.id = e.dept_id\n",
    "        GROUP BY d.id\n",
    "        HAVING [Number of Employees] > 1\n",
    "        ORDER BY [Number of Employees] DESC\n",
    "    \"\"\""
   ]
  },
  {
   "cell_type": "code",
   "execution_count": 335,
   "metadata": {},
   "outputs": [
    {
     "name": "stdout",
     "output_type": "stream",
     "text": [
      "name | location\n",
      "('개발부', '부산')\n",
      "('연구소', '서울')\n",
      "('고객서비스', '대전')\n",
      "('물류센터', '서울')\n",
      "('IT지원부', '광주')\n",
      "5 rows × 2 columns\n",
      "\n"
     ]
    }
   ],
   "source": [
    "# SQL Exists\n",
    "with Database() as db:\n",
    "    db.run = \"\"\"\n",
    "        SELECT name, location\n",
    "        FROM departments d\n",
    "        WHERE EXISTS (\n",
    "            SELECT *\n",
    "            FROM employees e\n",
    "            WHERE e.dept_id = d.id\n",
    "                AND e.salary > 60000\n",
    "        )\n",
    "    \"\"\""
   ]
  },
  {
   "cell_type": "code",
   "execution_count": 345,
   "metadata": {},
   "outputs": [
    {
     "name": "stdout",
     "output_type": "stream",
     "text": [
      "name | salary\n",
      "('신미나', 70000.0)\n",
      "('Singh', 68000.0)\n",
      "('홍길동', 71000.0)\n",
      "('조성민', 69000.0)\n",
      "4 rows × 2 columns\n",
      "\n"
     ]
    }
   ],
   "source": [
    "# SQL All\n",
    "with Database() as db:\n",
    "    # ALL은 'operator ALL' 형태로 사용된다. (이 쌍이 하나의 연산자로 취급된다.)\n",
    "    # 서브쿼리의 결과 중 모든 값이 조건을 만족할 때 참이 된다.\n",
    "\n",
    "    sql = \"\"\"\n",
    "        SELECT name, salary\n",
    "        FROM employees\n",
    "        WHERE salary > ALL (\n",
    "            SELECT salary\n",
    "            FROM employees\n",
    "            WHERE dept_id = 2\n",
    "        )\n",
    "    \"\"\"\n",
    "\n",
    "    # SQLite에서는 ALL 연산자를 지원하지 않는다.\n",
    "    # 동일한 결과를 얻는 쿼리는 다음과 같다.\n",
    "\n",
    "    db.run = \"\"\"\n",
    "        SELECT name, salary\n",
    "        FROM employees\n",
    "        WHERE salary > (\n",
    "            SELECT MAX(salary)\n",
    "            FROM employees\n",
    "            WHERE dept_id = 2\n",
    "        )\n",
    "    \"\"\""
   ]
  }
 ],
 "metadata": {
  "kernelspec": {
   "display_name": ".venv",
   "language": "python",
   "name": "python3"
  },
  "language_info": {
   "codemirror_mode": {
    "name": "ipython",
    "version": 3
   },
   "file_extension": ".py",
   "mimetype": "text/x-python",
   "name": "python",
   "nbconvert_exporter": "python",
   "pygments_lexer": "ipython3",
   "version": "3.12.8"
  }
 },
 "nbformat": 4,
 "nbformat_minor": 2
}
